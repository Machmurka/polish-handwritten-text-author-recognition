{
 "cells": [
  {
   "cell_type": "code",
   "execution_count": null,
   "metadata": {},
   "outputs": [],
   "source": [
    "# Clone GitRepository\n",
    "! git clone \"https://github.com/Machmurka/polish-handwritten-text-author-recognition\""
   ]
  },
  {
   "cell_type": "code",
   "execution_count": null,
   "metadata": {},
   "outputs": [],
   "source": [
    "# Set new working direcotry\n",
    "import os\n",
    "os.chdir(\"/content/polish-handwritten-text-author-recognition/Data\")\n",
    "!ls\n",
    "\n",
    "# example of training model callout\n",
    "# !python /content/polish-handwritten-text-author-recognition/Data/train.py"
   ]
  }
 ],
 "metadata": {
  "kernelspec": {
   "display_name": "Python 3",
   "language": "python",
   "name": "python3"
  },
  "language_info": {
   "name": "python",
   "version": "3.11.4"
  }
 },
 "nbformat": 4,
 "nbformat_minor": 2
}
