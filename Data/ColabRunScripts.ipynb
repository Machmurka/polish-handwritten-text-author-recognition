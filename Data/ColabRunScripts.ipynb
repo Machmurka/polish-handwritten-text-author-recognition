{
 "cells": [
  {
   "cell_type": "code",
   "execution_count": null,
   "metadata": {},
   "outputs": [],
   "source": [
    "# Clone GitRepository\n",
    "! git clone \"https://github.com/Machmurka/polish-handwritten-text-author-recognition\""
   ]
  },
  {
   "cell_type": "code",
   "execution_count": null,
   "metadata": {},
   "outputs": [],
   "source": [
    "# Set new working direcotry\n",
    "import os\n",
    "os.chdir(\"/content/polish-handwritten-text-author-recognition/Data\")\n",
    "!ls\n",
    "\n",
    "# example of training model callout\n",
    "# !python /content/polish-handwritten-text-author-recognition/Data/train.py"
   ]
  },
  {
   "cell_type": "code",
   "execution_count": null,
   "metadata": {},
   "outputs": [],
   "source": [
    "# Seting up ready to use variables for model testing\n",
    "\n",
    "from torchvision import transforms\n",
    "\n",
    "ResNet50=[3,4,6,3]\n",
    "ResNet101=[3,4,23,3]\n",
    "ResNet152=[3,8,36,3]\n",
    "\n",
    "data_dir=r'Words'\n",
    "\n",
    "data_transform= transforms.Compose([transforms.Resize(size=(224,224)),\n",
    "                transforms.TrivialAugmentWide(num_magnitude_bins=31),\n",
    "                transforms.ToTensor()\n",
    "                ])\n"
   ]
  },
  {
   "cell_type": "code",
   "execution_count": null,
   "metadata": {},
   "outputs": [],
   "source": [
    "from torchvision import transforms\n",
    "from train import Train\n",
    "\n",
    "Train()"
   ]
  }
 ],
 "metadata": {
  "kernelspec": {
   "display_name": "Python 3",
   "language": "python",
   "name": "python3"
  },
  "language_info": {
   "name": "python",
   "version": "3.11.4"
  }
 },
 "nbformat": 4,
 "nbformat_minor": 2
}
